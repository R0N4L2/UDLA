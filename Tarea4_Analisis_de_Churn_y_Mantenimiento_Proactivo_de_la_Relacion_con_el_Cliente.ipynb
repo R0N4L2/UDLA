{
 "cells": [
  {
   "cell_type": "markdown",
   "id": "164a6d84",
   "metadata": {},
   "source": [
    "# Tarea 4: Análisis de Churn y Mantenimiento Proactivo de la Relación con el Cliente"
   ]
  },
  {
   "cell_type": "markdown",
   "id": "3d5efcf8",
   "metadata": {},
   "source": [
    "\n",
    "## Descripción\n",
    "En esta tarea, los estudiantes analizarán un conjunto de datos de clientes para identificar patrones de abandono (churn) y predecir la probabilidad de churn utilizando modelos predictivos. El objetivo principal es desarrollar estrategias proactivas que permitan retener a los clientes y optimizar la relación con ellos a través de insights basados en datos.\n",
    "\n",
    "Para esta tarea, utilizaremos el conjunto de datos **Telco Customer Churn Dataset**, disponible gratuitamente en [Kaggle](https://www.kaggle.com/datasets/blastchar/telco-customer-churn). Descargar el archivo **WA_Fn-UseC_-Telco-Customer-Churn.csv** y dejarlo en la misma carpeta del notebook, para que funcione.\n"
   ]
  },
  {
   "cell_type": "markdown",
   "id": "3b011d8f",
   "metadata": {},
   "source": [
    "\n",
    "## Objetivos\n",
    "1. Comprender los patrones de comportamiento que llevan al abandono de los clientes.\n",
    "2. Aplicar modelos de aprendizaje automático para predecir la probabilidad de churn.\n",
    "3. Interpretar los resultados para proponer estrategias efectivas de retención de clientes.\n",
    "4. Generar un reporte técnico y visual que respalde las estrategias propuestas.\n"
   ]
  },
  {
   "cell_type": "markdown",
   "id": "e305382d",
   "metadata": {},
   "source": [
    "\n",
    "## Pasos\n",
    "1. **Carga y exploración de datos:** Inspeccionar el conjunto de datos para identificar tendencias y patrones iniciales.\n",
    "2. **Preprocesamiento:** Manejar datos faltantes, codificar variables categóricas y escalar características según sea necesario.\n",
    "3. **Entrenamiento y evaluación del modelo:** Entrenar un modelo de clasificación (como árbol de decisión, bosque aleatorio o regresión logística) para predecir churn y evaluar su desempeño.\n",
    "4. **Análisis de resultados:** Identificar las características clave que contribuyen al churn y visualizar resultados.\n",
    "5. **Recomendaciones:** Proponer estrategias basadas en los insights obtenidos para retener a los clientes de alto riesgo.\n"
   ]
  },
  {
   "cell_type": "markdown",
   "id": "21b350e9",
   "metadata": {},
   "source": [
    "1. **Carga y exploración de datos:** Inspeccionar el conjunto de datos para identificar tendencias y patrones iniciales."
   ]
  },
  {
   "cell_type": "code",
   "execution_count": null,
   "id": "d1853058",
   "metadata": {},
   "outputs": [],
   "source": [
    "\n",
    "# Importar librerías necesarias\n",
    "import pandas as pd\n",
    "import numpy as np\n",
    "import matplotlib.pyplot as plt\n",
    "import seaborn as sns\n",
    "from sklearn.model_selection import train_test_split\n",
    "from sklearn.preprocessing import LabelEncoder, StandardScaler\n",
    "from sklearn.ensemble import RandomForestClassifier\n",
    "from sklearn.metrics import classification_report, roc_auc_score, roc_curve\n",
    "\n",
    "# Configuración de gráficos\n",
    "plt.style.use('seaborn-darkgrid')\n",
    "sns.set_theme()\n",
    "\n",
    "# Cargar el conjunto de datos\n",
    "data = pd.read_csv(\"WA_Fn-UseC_-Telco-Customer-Churn.csv\")\n",
    "\n",
    "# Mostrar las primeras filas del dataset\n",
    "data.head()\n"
   ]
  },
  {
   "cell_type": "markdown",
   "id": "d2b35989",
   "metadata": {},
   "source": [
    "2. **Preprocesamiento:** Manejar datos faltantes, codificar variables categóricas y escalar características según sea necesario."
   ]
  },
  {
   "cell_type": "code",
   "execution_count": null,
   "id": "232016f1",
   "metadata": {},
   "outputs": [],
   "source": [
    "\n",
    "# Identificar y manejar datos faltantes\n",
    "print(data.isnull().sum())\n",
    "\n",
    "# Codificar variables categóricas\n",
    "label_encoders = {}\n",
    "for column in data.select_dtypes(include='object').columns:\n",
    "    if column != 'customerID':\n",
    "        label_encoders[column] = LabelEncoder()\n",
    "        data[column] = label_encoders[column].fit_transform(data[column])\n",
    "\n",
    "# Separar características y variable objetivo\n",
    "X = data.drop(columns=['customerID', 'Churn'])\n",
    "y = data['Churn']\n",
    "\n",
    "# Dividir en conjuntos de entrenamiento y prueba\n",
    "X_train, X_test, y_train, y_test = train_test_split(X, y, test_size=0.3, random_state=42)\n",
    "\n",
    "# Escalar características\n",
    "scaler = StandardScaler()\n",
    "X_train_scaled = scaler.fit_transform(X_train)\n",
    "X_test_scaled = scaler.transform(X_test)\n"
   ]
  },
  {
   "cell_type": "markdown",
   "id": "c085fc90",
   "metadata": {},
   "source": [
    "3. **Entrenamiento y evaluación del modelo:** Entrenar un modelo de clasificación (como árbol de decisión, bosque aleatorio o regresión logística) para predecir churn y evaluar su desempeño."
   ]
  },
  {
   "cell_type": "code",
   "execution_count": null,
   "id": "c62930ee",
   "metadata": {},
   "outputs": [],
   "source": [
    "\n",
    "# Entrenar un modelo de bosque aleatorio\n",
    "model = RandomForestClassifier(random_state=42)\n",
    "model.fit(X_train_scaled, y_train)\n",
    "\n",
    "# Predicciones y probabilidades\n",
    "y_pred = model.predict(X_test_scaled)\n",
    "y_proba = model.predict_proba(X_test_scaled)[:, 1]\n",
    "\n",
    "# Evaluación del modelo\n",
    "print(\"Reporte de Clasificación:\")\n",
    "print(classification_report(y_test, y_pred))\n",
    "roc_auc = roc_auc_score(y_test, y_proba)\n",
    "print(f\"AUC: {roc_auc:.2f}\")\n",
    "\n",
    "# Curva ROC\n",
    "fpr, tpr, _ = roc_curve(y_test, y_proba)\n",
    "plt.figure(figsize=(8, 6))\n",
    "plt.plot(fpr, tpr, label=f'ROC Curve (AUC = {roc_auc:.2f})')\n",
    "plt.plot([0, 1], [0, 1], 'k--', label='Random Guess')\n",
    "plt.xlabel('False Positive Rate')\n",
    "plt.ylabel('True Positive Rate')\n",
    "plt.title('Curva ROC')\n",
    "plt.legend(loc='best')\n",
    "plt.show()\n"
   ]
  },
  {
   "cell_type": "markdown",
   "id": "e21ceefd",
   "metadata": {},
   "source": [
    "4. **Análisis de resultados:** Identificar las características clave que contribuyen al churn y visualizar resultados."
   ]
  },
  {
   "cell_type": "code",
   "execution_count": null,
   "id": "a373c259",
   "metadata": {},
   "outputs": [],
   "source": [
    "\n",
    "# Importancia de características\n",
    "importances = pd.Series(model.feature_importances_, index=X.columns).sort_values(ascending=False)\n",
    "\n",
    "# Gráfico de importancia\n",
    "plt.figure(figsize=(10, 6))\n",
    "importances.plot(kind='bar', title='Importancia de Características')\n",
    "plt.ylabel('Importancia')\n",
    "plt.show()\n"
   ]
  },
  {
   "cell_type": "markdown",
   "id": "7750295a",
   "metadata": {},
   "source": [
    "5. **Recomendaciones:** Proponer estrategias basadas en los insights obtenidos para retener a los clientes de alto riesgo."
   ]
  },
  {
   "cell_type": "markdown",
   "id": "4892bfee",
   "metadata": {},
   "source": [
    "\n",
    "## Preguntas\n",
    "1. ¿Qué características tienen un impacto significativo en el churn?\n",
    "2. ¿Qué modelo de predicción ofrece el mejor desempeño y por qué?\n",
    "3. ¿Cómo se pueden segmentar los clientes para diseñar estrategias de retención específicas?\n",
    "4. ¿Qué métricas clave deben monitorearse para evaluar la efectividad de las estrategias propuestas?\n",
    "5. ¿Cómo podrían implementarse estrategias proactivas para reducir el churn a largo plazo?\n"
   ]
  },
  {
   "cell_type": "markdown",
   "id": "70adaaf5",
   "metadata": {},
   "source": [
    "## Requerimientos Entregables\n",
    "1. Un reporte en formato PDF que contenga:\n",
    "   - Introducción y descripción del problema.\n",
    "   - Análisis de los datos (incluyendo gráficos y tablas relevantes).\n",
    "   - Resultados del modelo de clasificación y su evaluación (métricas como precisión, AUC, etc.).\n",
    "   - Conclusiones y recomendaciones basadas en los insights obtenidos.\n",
    "2. Código fuente en Python en formato Jupyter Notebook (.ipynb).\n",
    "3. Gráficos relevantes (como curva ROC, importancia de características) exportados en alta calidad."
   ]
  }
 ],
 "metadata": {
  "language_info": {
   "name": "python"
  }
 },
 "nbformat": 4,
 "nbformat_minor": 5
}
