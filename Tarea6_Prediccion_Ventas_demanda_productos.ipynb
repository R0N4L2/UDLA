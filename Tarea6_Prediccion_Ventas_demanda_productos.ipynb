{
 "cells": [
  {
   "cell_type": "markdown",
   "id": "9d4e1fbf",
   "metadata": {},
   "source": [
    "\n",
    "# Tarea 6: Predicción de Ventas y Demanda de Productos\n",
    "\n",
    "#### **Objetivo**\n",
    "Realizar un Análisis Exploratorio de Datos (EDA) para identificar patrones y tendencias, implementar modelos predictivos, validar con técnicas cruzadas y evaluar con métricas, e interpretar las predicciones para tomar decisiones estratégicas."
   ]
  },
  {
   "cell_type": "markdown",
   "id": "cf6f1ecb",
   "metadata": {},
   "source": [
    "\n",
    "## **Parte 1: Introducción a los Datos**\n",
    "\n",
    "Para esta tarea, utilizaremos un conjunto de datos de predicción de ventas disponible públicamente. El dataset contiene información histórica de ventas, incluidas variables como fecha, ubicación, producto y demanda.\n",
    "\n",
    "Primero, cargaremos los datos y realizaremos una exploración inicial para familiarizarnos con su estructura y contenido.\n"
   ]
  },
  {
   "cell_type": "markdown",
   "id": "efe1eaec",
   "metadata": {},
   "source": [
    "Fuente del conjunto de datos: [Russian Retail](https://github.com/R0N4L2/UDLA/blob/main/russian_retail.csv)"
   ]
  },
  {
   "cell_type": "code",
   "execution_count": null,
   "id": "8e9ff118",
   "metadata": {},
   "outputs": [],
   "source": [
    "\n",
    "# Importing necessary libraries\n",
    "import pandas as pd\n",
    "import numpy as np\n",
    "import matplotlib.pyplot as plt\n",
    "import seaborn as sns"
   ]
  },
  {
   "cell_type": "markdown",
   "id": "7dd57e12",
   "metadata": {},
   "source": [
    "Recuerda que la data **russian_retail.csv**, debe estar en la misma carpeta que el notebook."
   ]
  },
  {
   "cell_type": "code",
   "execution_count": null,
   "id": "aff87c1c",
   "metadata": {},
   "outputs": [],
   "source": [
    "# Load the dataset\n",
    "data = pd.read_csv(\"russian_retail.csv\")\n",
    "data.head()"
   ]
  },
  {
   "cell_type": "markdown",
   "id": "dc0884cf",
   "metadata": {},
   "source": [
    "\n",
    "## **Parte 2: Análisis Exploratorio de Datos (EDA)**\n",
    "\n",
    "Exploraremos los datos para identificar patrones y tendencias, detectar valores atípicos y entender las relaciones entre variables clave. \n"
   ]
  },
  {
   "cell_type": "code",
   "execution_count": null,
   "id": "c3600b33",
   "metadata": {},
   "outputs": [],
   "source": [
    "\n",
    "# Summary statistics\n",
    "data.info()\n",
    "\n",
    "# Basic statistics\n",
    "data.describe()\n",
    "\n",
    "# Check for missing values\n",
    "missing_values = data.isnull().sum()\n",
    "missing_values\n",
    "\n",
    "# Visualizing sales trends over time\n",
    "data['date'] = pd.to_datetime(data['date'])\n",
    "sales_trend = data.groupby('date')['sales'].sum()\n",
    "sales_trend.plot(figsize=(12, 6), title=\"Tendencia de Ventas a lo Largo del Tiempo\", xlabel=\"Fecha\", ylabel=\"Ventas Totales\")\n",
    "plt.show()\n"
   ]
  },
  {
   "cell_type": "markdown",
   "id": "62266d34",
   "metadata": {},
   "source": [
    "\n",
    "## **Parte 3: Implementación de Modelos Predictivos**\n",
    "\n",
    "Utilizaremos modelos de regresión lineal y modelos basados en árboles para predecir la demanda futura de productos.\n"
   ]
  },
  {
   "cell_type": "code",
   "execution_count": null,
   "id": "f000bcdd",
   "metadata": {},
   "outputs": [],
   "source": [
    "\n",
    "from sklearn.model_selection import train_test_split\n",
    "from sklearn.linear_model import LinearRegression\n",
    "from sklearn.ensemble import RandomForestRegressor\n",
    "from sklearn.metrics import mean_squared_error, r2_score\n",
    "\n",
    "# Feature Engineering\n",
    "data['month'] = data['date'].dt.month\n",
    "data['day_of_week'] = data['date'].dt.dayofweek\n",
    "\n",
    "# Features and target variable\n",
    "features = ['month', 'day_of_week', 'product_id', 'store_id']\n",
    "target = 'sales'\n",
    "\n",
    "X = data[features]\n",
    "y = data[target]\n",
    "\n",
    "# Train-test split\n",
    "X_train, X_test, y_train, y_test = train_test_split(X, y, test_size=0.2, random_state=42)\n",
    "\n",
    "# Linear Regression Model\n",
    "lr = LinearRegression()\n",
    "lr.fit(X_train, y_train)\n",
    "y_pred_lr = lr.predict(X_test)\n",
    "\n",
    "# Random Forest Model\n",
    "rf = RandomForestRegressor(random_state=42)\n",
    "rf.fit(X_train, y_train)\n",
    "y_pred_rf = rf.predict(X_test)\n"
   ]
  },
  {
   "cell_type": "markdown",
   "id": "6dfcb234",
   "metadata": {},
   "source": [
    "\n",
    "## **Parte 4: Evaluación de Modelos**\n",
    "\n",
    "Evaluaremos el rendimiento de los modelos utilizando métricas como el Error Cuadrático Medio (MSE) y el R².\n"
   ]
  },
  {
   "cell_type": "code",
   "execution_count": null,
   "id": "fae36d59",
   "metadata": {},
   "outputs": [],
   "source": [
    "\n",
    "# Metrics for Linear Regression\n",
    "mse_lr = mean_squared_error(y_test, y_pred_lr)\n",
    "r2_lr = r2_score(y_test, y_pred_lr)\n",
    "\n",
    "# Metrics for Random Forest\n",
    "mse_rf = mean_squared_error(y_test, y_pred_rf)\n",
    "r2_rf = r2_score(y_test, y_pred_rf)\n",
    "\n",
    "# Display results\n",
    "print(f\"Linear Regression - MSE: {mse_lr:.2f}, R²: {r2_lr:.2f}\")\n",
    "print(f\"Random Forest - MSE: {mse_rf:.2f}, R²: {r2_rf:.2f}\")\n"
   ]
  },
  {
   "cell_type": "markdown",
   "id": "8b1cdcb1",
   "metadata": {},
   "source": [
    "\n",
    "## **Parte 5: Validación Cruzada**\n",
    "\n",
    "Aplicaremos validación cruzada para medir la robustez de los modelos y su capacidad de generalización.\n"
   ]
  },
  {
   "cell_type": "code",
   "execution_count": null,
   "id": "175db238",
   "metadata": {},
   "outputs": [],
   "source": [
    "\n",
    "from sklearn.model_selection import cross_val_score\n",
    "\n",
    "# Cross-validation for Random Forest\n",
    "cv_scores_rf = cross_val_score(rf, X, y, cv=5, scoring='neg_mean_squared_error')\n",
    "print(\"Cross-Validation MSE (Random Forest):\", -cv_scores_rf.mean())\n"
   ]
  },
  {
   "cell_type": "markdown",
   "id": "b2379dd8",
   "metadata": {},
   "source": [
    "\n",
    "## **Parte 6: Interpretación y Recomendaciones**\n",
    "\n",
    "1. **Análisis de Resultados:**\n",
    "   - Comparar el rendimiento de los modelos y justificar cuál es más adecuado para la predicción de ventas.\n",
    "   - Evaluar si los patrones encontrados en el EDA respaldan las predicciones realizadas.\n",
    "\n",
    "2. **Recomendaciones Estratégicas:**\n",
    "   - Basado en los resultados, proporcionar recomendaciones para ajustar la estrategia de inventario o marketing.\n"
   ]
  },
  {
   "cell_type": "markdown",
   "id": "2bbaea24",
   "metadata": {},
   "source": [
    "\n",
    "## Preguntas\n",
    "\n",
    "Responde las siguientes preguntas basadas en los análisis y resultados obtenidos:\n",
    "\n",
    "1. ¿Qué patrones interesantes detectaste en el EDA? ¿Cómo podrían influir en las decisiones de negocio?\n",
    "2. Compara el desempeño de los modelos de regresión lineal y Random Forest. ¿Cuál crees que es más adecuado para este problema y por qué?\n",
    "3. ¿Qué métricas utilizarías para convencer a un equipo ejecutivo sobre la confiabilidad del modelo predictivo?\n",
    "4. ¿Cómo mejorarías las características del modelo para aumentar su precisión en futuras implementaciones?\n",
    "5. Basado en los resultados del modelo, ¿qué estrategias podrías recomendar para optimizar el inventario y reducir costos?\n"
   ]
  },
  {
   "cell_type": "markdown",
   "id": "d08c4066",
   "metadata": {},
   "source": [
    "# Requerimientos Entregables\n",
    "\n",
    "Para la entrega de esta tarea, asegúrate de cumplir con los siguientes puntos:\n",
    "\n",
    "1. Un reporte en formato PDF que contenga:\n",
    "   - Secciones completas con los análisis solicitados.\n",
    "   - Código bien estructurado y comentado.\n",
    "   - Respuestas a las preguntas de reflexión.\n",
    "2. **Gráficos y Visualizaciones:** Incluir gráficos claros y relevantes para respaldar el análisis.\n",
    "3. **Conclusiones:** Presentar interpretaciones y recomendaciones basadas en los resultados obtenidos."
   ]
  },
  {
   "cell_type": "markdown",
   "id": "d8bb0325",
   "metadata": {},
   "source": []
  }
 ],
 "metadata": {
  "language_info": {
   "name": "python"
  }
 },
 "nbformat": 4,
 "nbformat_minor": 5
}
