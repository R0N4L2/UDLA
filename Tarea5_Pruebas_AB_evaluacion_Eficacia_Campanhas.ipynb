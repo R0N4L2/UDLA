{
 "cells": [
  {
   "cell_type": "markdown",
   "id": "177c052a",
   "metadata": {},
   "source": [
    "\n",
    "# ✍️ **Tarea 5: Pruebas A/B y Evaluación de Eficacia de Campañas**\n",
    "\n",
    "#### 🎯 **Objetivo**\n",
    "Explorar la importancia de las pruebas A/B en marketing digital, aprender a interpretar métricas clave, realizar análisis estadísticos para evaluar la significancia de resultados y analizar casos de éxito en campañas de marketing basadas en pruebas A/B.\n"
   ]
  },
  {
   "cell_type": "markdown",
   "id": "8ffac998",
   "metadata": {},
   "source": [
    "\n",
    "## **Parte 1: Fundamentos de Pruebas A/B**\n",
    "\n",
    "### 📖 **¿Qué son las pruebas A/B?**\n",
    "Las pruebas A/B son experimentos controlados que se utilizan para comparar dos variantes (A y B) de un elemento, como un sitio web, email o anuncio, con el objetivo de determinar cuál tiene un mejor desempeño basado en una métrica específica.\n",
    "\n",
    "### **Objetivos principales de las pruebas A/B:**\n",
    "1. **Optimizar conversiones:** Mejorar la tasa de conversión en elementos digitales.\n",
    "   - Ejemplo: Cambiar el texto de un botón de \"Comprar ahora\" a \"Obtén tu oferta\" y medir el impacto.\n",
    "2. **Mejorar experiencia de usuario:** Probar diseños alternativos para incrementar la satisfacción.\n",
    "   - Ejemplo: Cambiar el diseño de una landing page para facilitar la navegación.\n",
    "3. **Validar decisiones de negocio basadas en datos:** Evitar decisiones subjetivas al implementar cambios.\n",
    "   - Ejemplo: Probar dos estrategias de precio para un producto.\n"
   ]
  },
  {
   "cell_type": "markdown",
   "id": "d0110569",
   "metadata": {},
   "source": [
    "\n",
    "## **Parte 2: Cálculo y Evaluación de Métricas**\n",
    "\n",
    "### Cálculo de métricas:\n",
    "Dado:\n",
    "- Variante A: 5,000 visitantes, 600 conversiones.\n",
    "- Variante B: 5,000 visitantes, 750 conversiones.\n",
    "\n",
    "1. **Cálculo de tasa de conversión:**\n",
    "- Tasa de conversión = (Conversiones / Visitantes) * 100\n",
    "\n",
    "2. **Incremento porcentual de conversión:**\n",
    "- Incremento = ((Tasa B - Tasa A) / Tasa A) * 100\n"
   ]
  },
  {
   "cell_type": "code",
   "execution_count": null,
   "id": "fa4b94f9",
   "metadata": {},
   "outputs": [],
   "source": [
    "\n",
    "# Calculations in Python\n",
    "variant_a_visitors = 5000\n",
    "variant_a_conversions = 600\n",
    "\n",
    "variant_b_visitors = 5000\n",
    "variant_b_conversions = 750\n",
    "\n",
    "# Conversion rates\n",
    "rate_a = (variant_a_conversions / variant_a_visitors) * 100\n",
    "rate_b = (variant_b_conversions / variant_b_visitors) * 100\n",
    "\n",
    "# Percentage increase\n",
    "increment = ((rate_b - rate_a) / rate_a) * 100\n",
    "\n",
    "rate_a, rate_b, increment\n"
   ]
  },
  {
   "cell_type": "markdown",
   "id": "b9faaee8",
   "metadata": {},
   "source": [
    "\n",
    "### Análisis estadístico:\n",
    "Realizaremos una prueba de significancia estadística para verificar si la diferencia en las tasas de conversión es significativa.\n"
   ]
  },
  {
   "cell_type": "code",
   "execution_count": null,
   "id": "e38f5515",
   "metadata": {},
   "outputs": [],
   "source": [
    "\n",
    "from scipy.stats import proportions_ztest\n",
    "\n",
    "# Conversion counts and sample sizes\n",
    "success = [variant_a_conversions, variant_b_conversions]\n",
    "nobs = [variant_a_visitors, variant_b_visitors]\n",
    "\n",
    "# Z-test for proportions\n",
    "stat, p_value = proportions_ztest(success, nobs)\n",
    "stat, p_value\n"
   ]
  },
  {
   "cell_type": "markdown",
   "id": "62abc83a",
   "metadata": {},
   "source": [
    "\n",
    "## **Parte 3: Análisis de Casos de Éxito**\n",
    "\n",
    "### Ejemplo real:\n",
    "Un ejemplo famoso de prueba A/B es el rediseño de la página de inicio de Google en sus primeros años. Google probó diferentes combinaciones de colores para los enlaces en los resultados de búsqueda. Basado en los datos obtenidos, determinaron cuál generaba más clics.\n",
    "\n",
    "### Reflexión:\n",
    "1. **Lección 1:** Las pruebas A/B permiten tomar decisiones basadas en datos en lugar de suposiciones.\n",
    "2. **Lección 2:** Incluso pequeños cambios, como colores, pueden tener un impacto significativo en el comportamiento de los usuarios.\n"
   ]
  },
  {
   "cell_type": "markdown",
   "id": "d78de45c",
   "metadata": {},
   "source": [
    "\n",
    "## **Parte 4: Propuesta Práctica**\n",
    "\n",
    "### Diseño de la prueba A/B:\n",
    "**Hipótesis:** Cambiar el diseño del botón de checkout aumentará las conversiones.\n",
    "\n",
    "**Diseño:**\n",
    "- Variante A: Botón actual (color azul, texto \"Pagar\").\n",
    "- Variante B: Botón propuesto (color verde, texto \"Completar compra\").\n",
    "\n",
    "**Métricas:** Tasa de conversión.\n",
    "\n",
    "**Segmentación:** Usuarios que accedan a la página de checkout durante 2 semanas.\n",
    "\n",
    "**Herramientas:** Google Optimize para implementar el experimento y Google Analytics para medir conversiones.\n"
   ]
  },
  {
   "cell_type": "code",
   "execution_count": null,
   "id": "97bf771c",
   "metadata": {},
   "outputs": [],
   "source": [
    "\n",
    "# Descargar dataset (si aplica)\n",
    "!pip install kaggle --quiet\n",
    "\n",
    "# Colocar tu propia API Key de Kaggle para descargar un dataset relevante (ejemplo de análisis de e-commerce)\n",
    "!kaggle datasets download -d mkechinov/ecommerce-behavior-data-from-multi-category-store\n",
    "\n",
    "# Descomprimir y leer datos\n",
    "import zipfile\n",
    "import pandas as pd\n",
    "\n",
    "with zipfile.ZipFile(\"ecommerce-behavior-data-from-multi-category-store.zip\", \"r\") as zip_ref:\n",
    "    zip_ref.extractall(\"data\")\n",
    "\n",
    "data = pd.read_csv(\"data/2019-Nov.csv\")\n",
    "data.head()\n"
   ]
  }
 ],
 "metadata": {},
 "nbformat": 4,
 "nbformat_minor": 5
}
