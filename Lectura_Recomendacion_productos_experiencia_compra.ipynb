{
 "cells": [
  {
   "cell_type": "markdown",
   "id": "b284d65c",
   "metadata": {},
   "source": [
    "\n",
    "# Recomendación de Productos y Experiencia de Compra\n",
    "\n",
    "En esta lección, exploraremos cómo los sistemas de recomendación de productos pueden mejorar significativamente la experiencia de compra del cliente en el comercio electrónico. Aplicaremos técnicas prácticas utilizando datos reales de Kaggle.\n",
    "\n",
    "## Objetivos de Aprendizaje:\n",
    "1. Comprender los fundamentos de los sistemas de recomendación.\n",
    "2. Explorar diferentes tipos de sistemas de recomendación.\n",
    "3. Implementar un sistema de recomendación básico con datos reales.\n",
    "4. Analizar el impacto de las recomendaciones en la experiencia de compra utilizando análisis de datos.\n"
   ]
  },
  {
   "cell_type": "markdown",
   "id": "1ca3d864",
   "metadata": {},
   "source": [
    "\n",
    "## Fundamentos de los Sistemas de Recomendación\n",
    "\n",
    "Los sistemas de recomendación son algoritmos diseñados para sugerir productos relevantes a los usuarios. En el contexto del e-commerce, estos sistemas se basan en:\n",
    "\n",
    "1. **Datos del Usuario**: Historial de compras, búsquedas, calificaciones.\n",
    "2. **Datos del Producto**: Características, categorías, popularidad.\n",
    "3. **Datos Contextuales**: Temporada, ubicación, dispositivo.\n",
    "\n",
    "Estos sistemas pueden mejorar significativamente la experiencia de compra al:\n",
    "- Ayudar a los usuarios a descubrir productos relevantes.\n",
    "- Reducir el tiempo de búsqueda.\n",
    "- Aumentar la satisfacción del cliente.\n",
    "- Incrementar las ventas cruzadas y el valor del carrito promedio.\n"
   ]
  },
  {
   "cell_type": "markdown",
   "id": "7a7782af",
   "metadata": {},
   "source": [
    "\n",
    "## Tipos de Sistemas de Recomendación\n",
    "\n",
    "1. **Filtrado Colaborativo**: Recomienda productos basándose en las preferencias de usuarios similares.\n",
    "2. **Basado en Contenido**: Recomienda productos similares a los que el usuario ha mostrado interés.\n",
    "3. **Híbrido**: Combina múltiples enfoques para obtener mejores resultados.\n",
    "\n",
    "A continuación, implementaremos un sistema básico de filtrado colaborativo utilizando datos reales de Kaggle.\n"
   ]
  },
  {
   "cell_type": "code",
   "execution_count": null,
   "id": "2bad7096",
   "metadata": {},
   "outputs": [],
   "source": [
    "\n",
    "import pandas as pd\n",
    "\n",
    "# Cargar el conjunto de datos de Kaggle\n",
    "# Nota: Asegúrate de haber descargado el archivo 'Datafiniti_Amazon_Consumer_Reviews_of_Amazon_Products_May19.csv' del siguiente enlace:\n",
    "# https://www.kaggle.com/datasets/datafiniti/consumer-reviews-of-amazon-products\n",
    "df = pd.read_csv('Datafiniti_Amazon_Consumer_Reviews_of_Amazon_Products_May19.csv')\n",
    "\n",
    "# Mostrar las primeras filas del dataset\n",
    "df.head()\n"
   ]
  },
  {
   "cell_type": "code",
   "execution_count": null,
   "id": "773dee90",
   "metadata": {},
   "outputs": [],
   "source": [
    "\n",
    "# Filtrar las columnas relevantes\n",
    "df_filtered = df[['reviews.username', 'reviews.rating', 'reviews.text', 'reviews.title', 'reviews.date', 'name']]\n",
    "\n",
    "# Renombrar las columnas para mayor claridad\n",
    "df_filtered.columns = ['username', 'rating', 'review_text', 'review_title', 'review_date', 'product_name']\n",
    "\n",
    "# Mostrar las primeras filas del dataset filtrado\n",
    "df_filtered.head()\n"
   ]
  },
  {
   "cell_type": "code",
   "execution_count": null,
   "id": "d093b433",
   "metadata": {},
   "outputs": [],
   "source": [
    "\n",
    "from sklearn.feature_extraction.text import TfidfVectorizer\n",
    "from sklearn.metrics.pairwise import linear_kernel\n",
    "\n",
    "# Rellenar los valores NaN en 'review_text' con cadenas vacías\n",
    "df_filtered['review_text'] = df_filtered['review_text'].fillna('')\n",
    "\n",
    "# Crear una matriz TF-IDF de las descripciones de los productos\n",
    "tfidf = TfidfVectorizer(stop_words='english')\n",
    "tfidf_matrix = tfidf.fit_transform(df_filtered['review_text'])\n",
    "\n",
    "# Calcular la similitud del coseno entre las descripciones de los productos\n",
    "cosine_sim = linear_kernel(tfidf_matrix, tfidf_matrix)\n",
    "\n",
    "# Construir un mapeo de los nombres de los productos a los índices del dataframe\n",
    "indices = pd.Series(df_filtered.index, index=df_filtered['product_name']).drop_duplicates()\n",
    "\n",
    "# Función para obtener recomendaciones de productos\n",
    "def get_recommendations(product_name, cosine_sim=cosine_sim):\n",
    "    # Obtener el índice del producto que coincide con el nombre\n",
    "    idx = indices[product_name]\n",
    "\n",
    "    # Obtener las puntuaciones de similitud de coseno de todos los productos con ese producto\n",
    "    sim_scores = list(enumerate(cosine_sim[idx]))\n",
    "\n",
    "    # Ordenar los productos en función de las puntuaciones de similitud\n",
    "    sim_scores = sorted(sim_scores, key=lambda x: x[1], reverse=True)\n",
    "\n",
    "    # Obtener los índices de los 5 productos más similares\n",
    "    sim_scores = sim_scores[1:6]\n",
    "    product_indices = [i[0] for i in sim_scores]\n",
    "\n",
    "    # Devolver los nombres de los 5 productos más similares\n",
    "    return df_filtered['product_name'].iloc[product_indices]\n",
    "\n",
    "# Ejemplo de uso de la función de recomendación\n",
    "get_recommendations('Amazon - Echo Dot - Black')\n"
   ]
  },
  {
   "cell_type": "markdown",
   "id": "b2b4553c",
   "metadata": {},
   "source": [
    "\n",
    "## Impacto de las Recomendaciones en la Experiencia de Compra\n",
    "\n",
    "Los sistemas de recomendación pueden mejorar significativamente la experiencia de compra:\n",
    "\n",
    "1. **Personalización**: Ofrecen una experiencia adaptada a cada usuario.\n",
    "2. **Descubrimiento de Productos**: Ayudan a los usuarios a encontrar productos que de otra manera podrían pasar por alto.\n",
    "3. **Ahorro de Tiempo**: Reducen el tiempo de búsqueda del usuario.\n",
    "4. **Aumento de Ventas**: Incrementan las ventas cruzadas y el valor del carrito promedio.\n",
    "\n",
    "Vamos a analizar el impacto de las recomendaciones en las ventas utilizando visualizaciones.\n"
   ]
  },
  {
   "cell_type": "code",
   "execution_count": null,
   "id": "013a7e95",
   "metadata": {},
   "outputs": [],
   "source": [
    "\n",
    "import matplotlib.pyplot as plt\n",
    "\n",
    "# Datos hipotéticos de ventas con y sin recomendaciones\n",
    "ventas_sin_recomendaciones = [100, 120, 110, 130, 140, 135]\n",
    "ventas_con_recomendaciones = [100, 130, 140, 160, 190, 210]\n",
    "meses = ['Ene', 'Feb', 'Mar', 'Abr', 'May', 'Jun']\n",
    "\n",
    "plt.figure(figsize=(10, 6))\n",
    "plt.plot(meses, ventas_sin_recomendaciones, label='Sin Recomendaciones', marker='o')\n",
    "plt.plot(meses, ventas_con_recomendaciones, label='Con Recomendaciones', marker='o')\n",
    "plt.title('Impacto de las Recomendaciones en las Ventas')\n",
    "plt.xlabel('Mes')\n",
    "plt.ylabel('Ventas')\n",
    "plt.legend()\n",
    "plt.grid(True)\n",
    "plt.show()\n"
   ]
  },
  {
   "cell_type": "markdown",
   "id": "824a98b4",
   "metadata": {},
   "source": [
    "\n",
    "## Conclusión\n",
    "\n",
    "Los sistemas de recomendación son una herramienta fundamental en el marketing digital y el comercio electrónico. Implementar recomendaciones personalizadas puede mejorar significativamente la experiencia de compra, aumentar la satisfacción del cliente y generar mayores ventas.\n",
    "\n",
    "**Puntos Clave:**\n",
    "- Utilizamos datos reales para entender cómo funcionan los sistemas de recomendación.\n",
    "- El filtrado colaborativo y otros enfoques pueden mejorar la personalización.\n",
    "- El análisis de las recomendaciones muestra su impacto en la experiencia de compra y ventas.\n",
    "\n",
    "Este ejercicio demuestra cómo aplicar estos conceptos en un entorno real y ofrece una base para futuros desarrollos en proyectos de marketing.\n"
   ]
  }
 ],
 "metadata": {},
 "nbformat": 4,
 "nbformat_minor": 5
}
