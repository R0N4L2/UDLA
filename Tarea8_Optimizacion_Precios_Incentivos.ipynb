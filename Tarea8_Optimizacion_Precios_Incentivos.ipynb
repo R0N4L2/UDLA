{
 "cells": [
  {
   "cell_type": "markdown",
   "id": "2192f350",
   "metadata": {},
   "source": [
    "# Tarea 8: Optimización de Precios e Incentivos\n",
    "\n",
    "## Introducción\n",
    "En este notebook, se implementarán estrategias de precios dinámicos basadas en la elasticidad de la demanda. También se diseñarán incentivos personalizados para aumentar la fidelización de los clientes.\n",
    "Estas estrategias tienen como objetivo mejorar los ingresos y optimizar el comportamiento del cliente a través de precios y promociones."
   ]
  },
  {
   "cell_type": "markdown",
   "id": "39974400",
   "metadata": {},
   "source": [
    "## Objetivos\n",
    "- Implementar estrategias de precios dinámicos basados en la elasticidad de la demanda.\n",
    "- Diseñar incentivos personalizados para aumentar la fidelización del cliente.\n",
    "- Analizar el impacto de estas estrategias en los ingresos y el comportamiento del cliente."
   ]
  },
  {
   "cell_type": "code",
   "execution_count": null,
   "id": "1b4e709d",
   "metadata": {},
   "outputs": [],
   "source": [
    "# Preparación del Entorno\n",
    "!pip install pandas numpy matplotlib scikit-learn\n",
    "\n",
    "import pandas as pd\n",
    "import numpy as np\n",
    "import matplotlib.pyplot as plt\n",
    "from sklearn.linear_model import LinearRegression"
   ]
  },
  {
   "cell_type": "markdown",
   "id": "682f5b61",
   "metadata": {},
   "source": [
    "## Carga y Exploración de los Datos\n",
    "Dataset utilizado: [Retail Price and Sales Data](https://www.kaggle.com/datasets/saibattula/retail-price-dataset-sales-data)"
   ]
  },
  {
   "cell_type": "code",
   "execution_count": null,
   "id": "ab7d027b",
   "metadata": {},
   "outputs": [],
   "source": [
    "# Cargar datos\n",
    "df = pd.read_csv('data.csv')\n",
    "df.head()"
   ]
  },
  {
   "cell_type": "markdown",
   "id": "83cf4b19",
   "metadata": {},
   "source": [
    "## Análisis de Precios y Demanda"
   ]
  },
  {
   "cell_type": "code",
   "execution_count": null,
   "id": "089fc11c",
   "metadata": {},
   "outputs": [],
   "source": [
    "# Selección de un producto específico\n",
    "producto = 'Smartphone'\n",
    "df_producto = df[df['Product'] == producto]\n",
    "\n",
    "# Crear serie temporal de precios y demanda\n",
    "df_producto['Date'] = pd.to_datetime(df_producto['Date'])\n",
    "df_producto.set_index('Date', inplace=True)\n",
    "\n",
    "plt.figure(figsize=(10, 5))\n",
    "plt.plot(df_producto.index, df_producto['Price'], label='Precio')\n",
    "plt.title(f'Evolución del Precio de {producto}')\n",
    "plt.xlabel('Fecha')\n",
    "plt.ylabel('Precio')\n",
    "plt.legend()\n",
    "plt.show()"
   ]
  },
  {
   "cell_type": "markdown",
   "id": "dba7e976",
   "metadata": {},
   "source": [
    "## Implementación de Estrategias de Optimización de Precios"
   ]
  },
  {
   "cell_type": "code",
   "execution_count": null,
   "id": "cfcfb8db",
   "metadata": {},
   "outputs": [],
   "source": [
    "# Relación entre el precio y la demanda\n",
    "X = df_producto[['Price']]\n",
    "y = df_producto['Sales']\n",
    "\n",
    "modelo = LinearRegression()\n",
    "modelo.fit(X, y)\n",
    "\n",
    "elasticidad = modelo.coef_[0]\n",
    "print(f'Elasticidad precio-demanda: {elasticidad:.2f}')"
   ]
  },
  {
   "cell_type": "markdown",
   "id": "baa2211b",
   "metadata": {},
   "source": [
    "## Diseño de Incentivos Personalizados"
   ]
  },
  {
   "cell_type": "code",
   "execution_count": null,
   "id": "bdfd2022",
   "metadata": {},
   "outputs": [],
   "source": [
    "df_producto['Segmento'] = np.where(df_producto['Price'] > df_producto['Price'].median(), 'Alta Sensibilidad', 'Baja Sensibilidad')\n",
    "df_producto[['Product', 'Price', 'Sales', 'Segmento']].head()"
   ]
  },
  {
   "cell_type": "markdown",
   "id": "07f9c125",
   "metadata": {},
   "source": [
    "## Evaluación del Impacto"
   ]
  },
  {
   "cell_type": "code",
   "execution_count": null,
   "id": "774efacd",
   "metadata": {},
   "outputs": [],
   "source": [
    "df_producto['Nuevo_Precio'] = df_producto['Price'] * 0.9\n",
    "df_producto['Nueva_Venta'] = df_producto['Sales'] * (1 + elasticidad)\n",
    "\n",
    "plt.figure(figsize=(10, 5))\n",
    "plt.plot(df_producto.index, df_producto['Sales'], label='Ventas Originales', linestyle='--')\n",
    "plt.plot(df_producto.index, df_producto['Nueva_Venta'], label='Ventas con Incentivos', linestyle='-')\n",
    "plt.title(f'Impacto de los Incentivos en las Ventas de {producto}')\n",
    "plt.xlabel('Fecha')\n",
    "plt.ylabel('Ventas')\n",
    "plt.legend()\n",
    "plt.show()"
   ]
  },
  {
   "cell_type": "markdown",
   "id": "93a25944",
   "metadata": {},
   "source": [
    "## Preguntas:\n",
    "1. ¿Cómo afecta la variación de precios a la demanda de un producto específico?\n",
    "2. ¿Qué segmentos de clientes son más sensibles al precio?\n",
    "3. ¿Qué tipo de incentivos resultan más efectivos para cada segmento de clientes?"
   ]
  },
  {
   "cell_type": "markdown",
   "id": "a5fa7b1e",
   "metadata": {},
   "source": [
    "## Requerimientos Entregables\n",
    "1. Un reporte en formato PDF que contenga:\n",
    "    * Respuestas organizadas por secciones.\n",
    "    * Capturas de pantalla o gráficos para apoyar los cálculos y análisis, si es necesario.\n",
    "2. Código fuente en Python en formato Jupyter Notebook (.ipynb).\n",
    "3. Gráficos relevantes exportados en alta calidad."
   ]
  },
  {
   "cell_type": "markdown",
   "id": "85e776bc",
   "metadata": {},
   "source": []
  }
 ],
 "metadata": {
  "kernelspec": {
   "display_name": "Python 3",
   "language": "python",
   "name": "python3"
  },
  "language_info": {
   "codemirror_mode": {
    "name": "ipython",
    "version": 3
   },
   "file_extension": ".py",
   "mimetype": "text/x-python",
   "name": "python",
   "nbconvert_exporter": "python",
   "pygments_lexer": "ipython3",
   "version": "3.9.7"
  }
 },
 "nbformat": 4,
 "nbformat_minor": 5
}
