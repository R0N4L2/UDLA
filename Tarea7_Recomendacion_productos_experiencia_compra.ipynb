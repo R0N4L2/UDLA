{
 "cells": [
  {
   "cell_type": "markdown",
   "id": "c5cadaa5",
   "metadata": {},
   "source": [
    "# Tarea 7: Recomendación de productos y experiencia de compra. \n",
    "\n",
    "Este notebook guía a los estudiantes a través de un análisis de datos de transacciones de e-commerce, utilizando el dataset \"Online Retail II\".\n",
    "\n",
    "## Objetivo del Ejemplo\n",
    "- Demostrar técnicas de análisis exploratorio de datos (EDA).\n",
    "- Mostrar cómo limpiar y visualizar datos de transacciones.\n",
    "- Proveer ejemplos prácticos para responder preguntas clave de negocio.\n"
   ]
  },
  {
   "cell_type": "markdown",
   "id": "ac591439",
   "metadata": {},
   "source": [
    "\n",
    "## Dataset Utilizado\n",
    "\n",
    "Usaremos el dataset **\"Online Retail II\"**, que contiene transacciones de una tienda de e-commerce. Este dataset incluye información como:\n",
    "- **InvoiceNo**: Número de factura.\n",
    "- **StockCode**: Código del producto.\n",
    "- **Description**: Descripción del producto.\n",
    "- **Quantity**: Cantidad comprada.\n",
    "- **InvoiceDate**: Fecha de la transacción.\n",
    "- **UnitPrice**: Precio unitario.\n",
    "- **CustomerID**: Identificador del cliente.\n",
    "- **Country**: País del cliente.\n",
    "\n",
    "Puedes descargar el dataset desde [Online Retail II](https://archive.ics.uci.edu/ml/datasets/Online+Retail+II).\n"
   ]
  },
  {
   "cell_type": "markdown",
   "id": "e9004d84",
   "metadata": {},
   "source": [
    "\n",
    "## 1. Carga y Limpieza de los Datos\n",
    "\n",
    "Comenzaremos cargando el dataset y realizando la limpieza necesaria para garantizar que los datos sean utilizables.\n"
   ]
  },
  {
   "cell_type": "code",
   "execution_count": null,
   "id": "0f05e562",
   "metadata": {},
   "outputs": [],
   "source": [
    "\n",
    "import pandas as pd\n",
    "\n",
    "# Carga del dataset\n",
    "data = pd.read_csv('Online_Retail.csv')\n",
    "\n",
    "# Vista inicial de los datos\n",
    "data.head()\n"
   ]
  },
  {
   "cell_type": "markdown",
   "id": "14f7f57d",
   "metadata": {},
   "source": [
    "\n",
    "### Limpieza de los Datos\n",
    "\n",
    "1. Identificar valores faltantes y decidir cómo manejarlos.\n",
    "2. Filtrar transacciones con valores negativos o nulos.\n",
    "3. Asegurar que las columnas tengan los tipos de datos correctos.\n"
   ]
  },
  {
   "cell_type": "code",
   "execution_count": null,
   "id": "a88da843",
   "metadata": {},
   "outputs": [],
   "source": [
    "\n",
    "# Identificar valores faltantes\n",
    "data.isnull().sum()\n",
    "\n",
    "# Eliminar filas con valores faltantes\n",
    "data = data.dropna()\n",
    "\n",
    "# Filtrar valores negativos o nulos en Quantity y UnitPrice\n",
    "data = data[(data['Quantity'] > 0) & (data['UnitPrice'] > 0)]\n",
    "\n",
    "# Asegurar tipos de datos correctos\n",
    "data['InvoiceDate'] = pd.to_datetime(data['InvoiceDate'])\n",
    "data.info()\n"
   ]
  },
  {
   "cell_type": "markdown",
   "id": "7694a86b",
   "metadata": {},
   "source": [
    "\n",
    "## 2. Análisis Exploratorio de Datos (EDA)\n",
    "\n",
    "### Preguntas Clave a Responder\n",
    "1. ¿Cuáles son los productos más vendidos?\n",
    "2. ¿Qué países generan más ingresos?\n",
    "3. ¿Existen patrones estacionales en las ventas?\n"
   ]
  },
  {
   "cell_type": "code",
   "execution_count": null,
   "id": "bb899257",
   "metadata": {},
   "outputs": [],
   "source": [
    "\n",
    "# Productos más vendidos\n",
    "top_products = data.groupby('Description')['Quantity'].sum().sort_values(ascending=False).head(10)\n",
    "top_products.plot(kind='bar', title='Top 10 Productos Más Vendidos', figsize=(10, 5))\n"
   ]
  },
  {
   "cell_type": "code",
   "execution_count": null,
   "id": "58b0d5dc",
   "metadata": {},
   "outputs": [],
   "source": [
    "\n",
    "# Países con más ingresos\n",
    "data['Revenue'] = data['Quantity'] * data['UnitPrice']\n",
    "top_countries = data.groupby('Country')['Revenue'].sum().sort_values(ascending=False).head(10)\n",
    "top_countries.plot(kind='bar', title='Top 10 Países por Ingreso', figsize=(10, 5))\n"
   ]
  },
  {
   "cell_type": "markdown",
   "id": "ad4eced9",
   "metadata": {},
   "source": [
    "\n",
    "### Visualización de Estacionalidad\n",
    "\n",
    "Exploraremos las ventas a lo largo del tiempo para identificar posibles patrones estacionales.\n"
   ]
  },
  {
   "cell_type": "code",
   "execution_count": null,
   "id": "34c98f4b",
   "metadata": {},
   "outputs": [],
   "source": [
    "\n",
    "# Ventas mensuales\n",
    "data['Month'] = data['InvoiceDate'].dt.to_period('M')\n",
    "monthly_sales = data.groupby('Month')['Revenue'].sum()\n",
    "monthly_sales.plot(kind='line', title='Ventas Mensuales', figsize=(12, 6))\n"
   ]
  },
  {
   "cell_type": "markdown",
   "id": "f17ba9f2",
   "metadata": {},
   "source": [
    "\n",
    "## 3. Conclusiones y Recomendaciones\n",
    "\n",
    "Con base en los insights obtenidos:\n",
    "1. **Productos más vendidos**: Aumentar inventario y promociones para los productos con mayor demanda.\n",
    "2. **Segmentación por país**: Dirigir estrategias de marketing a los países que generan mayores ingresos.\n",
    "3. **Estacionalidad**: Aprovechar los picos de venta en temporadas específicas mediante campañas dirigidas.\n"
   ]
  },
  {
   "cell_type": "markdown",
   "id": "8b791445",
   "metadata": {},
   "source": [
    "# Requerimientos Entregables\n",
    "\n",
    "1. Un reporte en formato PDF que contenga:\n",
    "    * Respuestas organizadas por secciones.\n",
    "    * Capturas de pantalla o gráficos para apoyar los cálculos y análisis, si es necesario.\n",
    "2. Código fuente en Python en formato Jupyter Notebook (.ipynb).\n",
    "3. Gráficos relevantes (como curva ROC, importancia de características) exportados en alta calidad."
   ]
  },
  {
   "cell_type": "markdown",
   "id": "58b77e8b",
   "metadata": {},
   "source": []
  }
 ],
 "metadata": {
  "language_info": {
   "name": "python"
  }
 },
 "nbformat": 4,
 "nbformat_minor": 5
}
