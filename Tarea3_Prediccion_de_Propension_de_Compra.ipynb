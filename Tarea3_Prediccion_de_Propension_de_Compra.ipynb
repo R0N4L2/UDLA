{
 "cells": [
  {
   "cell_type": "markdown",
   "id": "dfae9213",
   "metadata": {},
   "source": [
    "# Tarea 3: Predicción de Propensión de Compra"
   ]
  },
  {
   "cell_type": "markdown",
   "id": "3dbe7f64",
   "metadata": {},
   "source": [
    "\n",
    "## Descripción\n",
    "En esta tarea, los estudiantes construirán un modelo de predicción de la propensión de compra de clientes basado en un conjunto de datos realista. Este proyecto permite aplicar conceptos clave de análisis de datos y aprendizaje automático, con un enfoque en la generación de insights accionables para estrategias de marketing.\n",
    "\n",
    "## Objetivos\n",
    "1. Aplicar técnicas de preprocesamiento y exploración de datos para comprender patrones en el comportamiento del cliente.\n",
    "2. Construir y evaluar un modelo de clasificación para predecir la probabilidad de compra de un cliente.\n",
    "3. Interpretar los resultados del modelo para proponer estrategias de marketing basadas en datos.\n",
    "4. Generar un reporte técnico y visual que respalde las recomendaciones de marketing."
   ]
  },
  {
   "cell_type": "markdown",
   "id": "c4241b7a",
   "metadata": {},
   "source": [
    "\n",
    "### Introducción\n",
    "El objetivo de este proyecto es construir un modelo que prediga la probabilidad de compra de un cliente utilizando técnicas de aprendizaje automático y marketing basado en datos. Este notebook incluye todas las etapas necesarias, desde la carga y exploración de los datos hasta el análisis y recomendaciones finales.\n",
    "\n",
    "Fuente del conjunto de datos: [Customer Purchases Behaviour Dataset](https://www.kaggle.com/datasets/sanyamgoyal401/customer-purchases-behaviour-dataset)\n"
   ]
  },
  {
   "cell_type": "markdown",
   "id": "1e7d717c",
   "metadata": {},
   "source": [
    "## Pasos\n",
    "1. **Carga y exploración de datos:** Analizar el conjunto de datos proporcionado para identificar tendencias y patrones.\n",
    "2. **Preprocesamiento:** Manejar datos nulos, seleccionar características relevantes y normalizar los datos para el modelo.\n",
    "3. **Entrenamiento y evaluación del modelo:** Entrenar un modelo de regresión logística para predecir la propensión de compra y evaluar su desempeño.\n",
    "4. **Análisis de resultados:** Identificar las características más relevantes para la decisión de compra.\n",
    "5. **Recomendaciones:** Proponer estrategias basadas en los resultados del modelo."
   ]
  },
  {
   "cell_type": "code",
   "execution_count": null,
   "id": "0f640722",
   "metadata": {},
   "outputs": [],
   "source": [
    "\n",
    "# Importación de librerías necesarias\n",
    "import pandas as pd\n",
    "import numpy as np\n",
    "from sklearn.model_selection import train_test_split\n",
    "from sklearn.preprocessing import StandardScaler\n",
    "from sklearn.linear_model import LogisticRegression\n",
    "from sklearn.metrics import classification_report, roc_auc_score, roc_curve\n",
    "import matplotlib.pyplot as plt\n",
    "import seaborn as sns\n",
    "\n",
    "# Configuración inicial\n",
    "plt.style.use('default')\n",
    "sns.set_theme()\n"
   ]
  },
  {
   "cell_type": "markdown",
   "id": "271343c2",
   "metadata": {},
   "source": [
    "### 1. Carga y Exploración de los Datos"
   ]
  },
  {
   "cell_type": "code",
   "execution_count": null,
   "id": "989b32b2",
   "metadata": {},
   "outputs": [],
   "source": [
    "\n",
    "# Cargar datos (asegúrate de colocar el archivo en el mismo directorio)\n",
    "data = pd.read_csv(\"customer_purchases.csv\")  # Cambia a la ruta de tu archivo descargado\n",
    "\n",
    "# Mostrar primeras filas\n",
    "print(data.head())\n",
    "\n",
    "# Información general del dataset\n",
    "print(data.info())\n",
    "\n",
    "# Verificar valores nulos\n",
    "print(data.isnull().sum())\n",
    "\n",
    "# Estadísticas descriptivas\n",
    "print(data.describe())\n"
   ]
  },
  {
   "cell_type": "markdown",
   "id": "d8bfb246",
   "metadata": {},
   "source": [
    "### 2. Preprocesamiento de Datos"
   ]
  },
  {
   "cell_type": "code",
   "execution_count": null,
   "id": "3b618c8f",
   "metadata": {},
   "outputs": [],
   "source": [
    "\n",
    "# Selección de características relevantes\n",
    "X = data[['Age', 'Annual Income', 'Website Visits', 'Ad Clicks', 'Campaign Responses']]\n",
    "y = data['Purchase']  # Variable objetivo (1: compra, 0: no compra)\n",
    "\n",
    "# División en conjunto de entrenamiento y prueba\n",
    "X_train, X_test, y_train, y_test = train_test_split(X, y, test_size=0.3, random_state=42)\n",
    "\n",
    "# Escalamiento de las características\n",
    "scaler = StandardScaler()\n",
    "X_train_scaled = scaler.fit_transform(X_train)\n",
    "X_test_scaled = scaler.transform(X_test)\n"
   ]
  },
  {
   "cell_type": "markdown",
   "id": "600275be",
   "metadata": {},
   "source": [
    "### 3. Entrenamiento del Modelo"
   ]
  },
  {
   "cell_type": "code",
   "execution_count": null,
   "id": "24a3be51",
   "metadata": {},
   "outputs": [],
   "source": [
    "\n",
    "# Entrenamiento del modelo de Regresión Logística\n",
    "logistic_model = LogisticRegression()\n",
    "logistic_model.fit(X_train_scaled, y_train)\n",
    "\n",
    "# Predicciones\n",
    "y_pred = logistic_model.predict(X_test_scaled)\n",
    "y_proba = logistic_model.predict_proba(X_test_scaled)[:, 1]\n"
   ]
  },
  {
   "cell_type": "markdown",
   "id": "0384add9",
   "metadata": {},
   "source": [
    "### 4. Evaluación del Modelo"
   ]
  },
  {
   "cell_type": "code",
   "execution_count": null,
   "id": "021eec3d",
   "metadata": {},
   "outputs": [],
   "source": [
    "\n",
    "# Reporte de Clasificación\n",
    "print(\"Reporte de Clasificación:\")\n",
    "print(classification_report(y_test, y_pred))\n",
    "\n",
    "# AUC y Curva ROC\n",
    "roc_auc = roc_auc_score(y_test, y_proba)\n",
    "print(f\"AUC: {roc_auc:.2f}\")\n",
    "\n",
    "# Gráfica de Curva ROC\n",
    "fpr, tpr, thresholds = roc_curve(y_test, y_proba)\n",
    "plt.figure(figsize=(8, 6))\n",
    "plt.plot(fpr, tpr, label=f'ROC curve (AUC = {roc_auc:.2f})')\n",
    "plt.plot([0, 1], [0, 1], 'k--', label='Random')\n",
    "plt.xlabel('Tasa de Falsos Positivos')\n",
    "plt.ylabel('Tasa de Verdaderos Positivos')\n",
    "plt.title('Curva ROC')\n",
    "plt.legend(loc='best')\n",
    "plt.show()\n"
   ]
  },
  {
   "cell_type": "markdown",
   "id": "d0b79e31",
   "metadata": {},
   "source": [
    "### 5. Análisis de Importancia de Variables"
   ]
  },
  {
   "cell_type": "code",
   "execution_count": null,
   "id": "4a6217a4",
   "metadata": {},
   "outputs": [],
   "source": [
    "\n",
    "# Importancia de las características\n",
    "coef = pd.Series(logistic_model.coef_[0], index=X.columns)\n",
    "coef = coef.sort_values(ascending=False)\n",
    "\n",
    "# Gráfico de barras de importancia\n",
    "plt.figure(figsize=(8, 6))\n",
    "coef.plot(kind='bar', title='Importancia de Características')\n",
    "plt.ylabel('Peso del Coeficiente')\n",
    "plt.show()\n"
   ]
  },
  {
   "cell_type": "markdown",
   "id": "9a1894fd",
   "metadata": {},
   "source": [
    "### 6. Recomendaciones"
   ]
  },
  {
   "cell_type": "markdown",
   "id": "8ddd942d",
   "metadata": {},
   "source": [
    "\n",
    "1. **Segmentación de Clientes:** Utiliza los resultados del modelo para identificar clientes con alta probabilidad de compra y personalizar campañas de marketing.\n",
    "2. **Optimización de Recursos:** Enfoca esfuerzos publicitarios en clientes con mayor propensión a realizar una compra.\n",
    "3. **Retención de Clientes:** Desarrolla estrategias para retener a clientes indecisos basándote en las variables clave del modelo.\n",
    "4. **Evaluación Continua:** Monitorea el desempeño del modelo regularmente para ajustar estrategias y mejorar precisión.\n"
   ]
  },
  {
   "cell_type": "markdown",
   "id": "302242af",
   "metadata": {},
   "source": [
    "## Preguntas\n",
    "1. ¿Cuáles son las características principales que afectan la probabilidad de compra de un cliente?\n",
    "2. ¿Cómo se puede mejorar la precisión del modelo de predicción?\n",
    "3. ¿Qué insights se pueden extraer del análisis para mejorar las estrategias de marketing?\n",
    "4. ¿Qué métricas de evaluación indican que el modelo es confiable para la toma de decisiones?\n",
    "5. ¿Cómo podrían segmentarse los clientes en función de la probabilidad de compra?\n",
    "\n",
    "## Requerimientos Entregables\n",
    "1. Un reporte en formato PDF que contenga:\n",
    "   - Introducción y descripción del problema.\n",
    "   - Análisis de los datos (incluyendo gráficos y tablas relevantes).\n",
    "   - Resultados del modelo de clasificación y su evaluación (AUC, precisión, etc.).\n",
    "   - Conclusiones y recomendaciones.\n",
    "2. Código fuente en Python en formato Jupyter Notebook (.ipynb).\n",
    "3. Gráficos relevantes (como curvas ROC, importancia de características) exportados en alta calidad."
   ]
  }
 ],
 "metadata": {
  "language_info": {
   "name": "python"
  }
 },
 "nbformat": 4,
 "nbformat_minor": 5
}
