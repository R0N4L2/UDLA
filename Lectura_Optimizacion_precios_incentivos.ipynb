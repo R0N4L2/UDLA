{
 "cells": [
  {
   "cell_type": "markdown",
   "id": "d1099519",
   "metadata": {},
   "source": [
    "\n",
    "# Lectura: Optimización de Precios e Incentivos\n",
    "\n",
    "Este Jupyter Notebook está diseñado para ayudarte a entender y aplicar conceptos clave de optimización de precios e incentivos en marketing basado en datos. Utilizaremos un conjunto de datos real descargado de Kaggle: **Ventas Cute Things 2020**.\n",
    "\n",
    "### Dataset Utilizado\n",
    "El dataset contiene información sobre ventas en plataformas de comercio electrónico, incluyendo:\n",
    "- Categorías de productos.\n",
    "- Cantidades vendidas.\n",
    "- Precios de productos.\n",
    "- Ingresos generados.\n",
    "\n",
    "Puedes descargar el dataset aquí:\n",
    "[Descargar Ventas Cute Things 2020](https://www.kaggle.com/datasets/cutethingsvup/ventas-cute-things-2020).\n",
    "\n",
    "### Objetivos\n",
    "1. Analizar patrones de ventas y precios.\n",
    "2. Calcular elasticidades y explorar estrategias de segmentación de precios.\n",
    "3. Evaluar el impacto de incentivos en el comportamiento del consumidor.\n",
    "\n",
    "¡Empecemos!\n"
   ]
  },
  {
   "cell_type": "code",
   "execution_count": null,
   "id": "262d69ab",
   "metadata": {},
   "outputs": [],
   "source": [
    "\n",
    "import pandas as pd\n",
    "\n",
    "# Ruta al archivo descargado\n",
    "dataset_path = \"ventas_cute_things_2020.csv\"  # Reemplazar con la ruta real del archivo descargado\n",
    "try:\n",
    "    data = pd.read_csv(dataset_path)\n",
    "    print(\"Datos cargados exitosamente. Vista previa:\")\n",
    "    display(data.head())\n",
    "except Exception as e:\n",
    "    print(f\"Error al cargar los datos: {e}\")\n"
   ]
  },
  {
   "cell_type": "markdown",
   "id": "5f01635a",
   "metadata": {},
   "source": [
    "\n",
    "## Exploración de Datos\n",
    "\n",
    "Veamos una descripción básica de los datos:\n",
    "- Número de registros.\n",
    "- Tipos de columnas y contenido.\n"
   ]
  },
  {
   "cell_type": "code",
   "execution_count": null,
   "id": "4a4fa26f",
   "metadata": {},
   "outputs": [],
   "source": [
    "\n",
    "# Información general del dataset\n",
    "data.info()\n",
    "\n",
    "# Resumen estadístico\n",
    "data.describe()\n"
   ]
  },
  {
   "cell_type": "markdown",
   "id": "0f97ee1a",
   "metadata": {},
   "source": [
    "\n",
    "## Análisis de Precios\n",
    "\n",
    "Los precios juegan un rol crucial en las decisiones de compra. Vamos a analizar la distribución de precios y su relación con las ventas.\n"
   ]
  },
  {
   "cell_type": "code",
   "execution_count": null,
   "id": "ecaa909e",
   "metadata": {},
   "outputs": [],
   "source": [
    "\n",
    "import matplotlib.pyplot as plt\n",
    "\n",
    "# Graficar distribución de precios\n",
    "plt.figure(figsize=(10, 6))\n",
    "data['price'].hist(bins=30, edgecolor='k')\n",
    "plt.title('Distribución de Precios')\n",
    "plt.xlabel('Precio')\n",
    "plt.ylabel('Frecuencia')\n",
    "plt.show()\n"
   ]
  },
  {
   "cell_type": "markdown",
   "id": "3d91c47f",
   "metadata": {},
   "source": [
    "\n",
    "## Elasticidad de la Demanda\n",
    "\n",
    "La elasticidad mide cómo cambian las ventas en respuesta a cambios en los precios. Vamos a calcular la elasticidad para un producto.\n"
   ]
  },
  {
   "cell_type": "code",
   "execution_count": null,
   "id": "2f9dfa57",
   "metadata": {},
   "outputs": [],
   "source": [
    "\n",
    "# Ejemplo de elasticidad\n",
    "producto = data.iloc[0]\n",
    "precio_inicial = producto['price']\n",
    "precio_final = precio_inicial * 0.9  # Reducción del 10% en el precio\n",
    "cantidad_inicial = producto['quantity_sold']\n",
    "cantidad_final = cantidad_inicial * 1.2  # Incremento del 20% en las ventas\n",
    "\n",
    "cambio_precio = (precio_final - precio_inicial) / precio_inicial\n",
    "cambio_cantidad = (cantidad_final - cantidad_inicial) / cantidad_inicial\n",
    "elasticidad = cambio_cantidad / cambio_precio\n",
    "\n",
    "print(f\"Elasticidad calculada: {elasticidad:.2f}\")\n",
    "if abs(elasticidad) > 1:\n",
    "    print(\"Demanda elástica: Las ventas responden significativamente a cambios en el precio.\")\n",
    "else:\n",
    "    print(\"Demanda inelástica: Las ventas no responden significativamente a cambios en el precio.\")\n"
   ]
  },
  {
   "cell_type": "markdown",
   "id": "2b22e09f",
   "metadata": {},
   "source": [
    "\n",
    "## Incentivos y Promociones\n",
    "\n",
    "Los incentivos como descuentos y recompensas son herramientas útiles para aumentar las ventas. Simularemos el impacto de un descuento del 10%.\n"
   ]
  },
  {
   "cell_type": "code",
   "execution_count": null,
   "id": "63169cd2",
   "metadata": {},
   "outputs": [],
   "source": [
    "\n",
    "# Aplicar un descuento del 10% y calcular el impacto\n",
    "data['discount_price'] = data['price'] * 0.9\n",
    "data['sales_after_discount'] = data['quantity_sold'] * 1.1  # Aumento del 10% en ventas\n",
    "\n",
    "# Comparar ingresos antes y después\n",
    "data['revenue'] = data['price'] * data['quantity_sold']\n",
    "data['revenue_after_discount'] = data['discount_price'] * data['sales_after_discount']\n",
    "\n",
    "print(\"Impacto del descuento:\")\n",
    "print(data[['price', 'discount_price', 'revenue', 'revenue_after_discount']].head())\n"
   ]
  },
  {
   "cell_type": "markdown",
   "id": "13ec6613",
   "metadata": {},
   "source": [
    "\n",
    "## Conclusión\n",
    "\n",
    "En este notebook hemos explorado:\n",
    "1. Análisis de datos básicos y distribución de precios.\n",
    "2. Elasticidad de la demanda.\n",
    "3. Impacto de incentivos como descuentos.\n",
    "\n",
    "El análisis de datos es esencial para optimizar estrategias de precios y marketing en cualquier negocio.\n"
   ]
  }
 ],
 "metadata": {},
 "nbformat": 4,
 "nbformat_minor": 5
}
