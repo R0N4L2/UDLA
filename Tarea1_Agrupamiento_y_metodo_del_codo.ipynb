{
 "cells": [
  {
   "cell_type": "markdown",
   "id": "40eba5a5",
   "metadata": {},
   "source": [
    "\n",
    "# Tarea 1: Agrupamiento y Método del Codo\n",
    "\n",
    "En esta tarea, exploraremos la técnica de agrupamiento utilizando **KMeans** y determinaremos el número óptimo de clústeres mediante el **método del codo**. Utilizaremos el conjunto de datos público de [Kaggle: Wholesale Customers Dataset](https://archive.ics.uci.edu/ml/datasets/Wholesale+customers). Este conjunto de datos contiene información sobre el consumo de diferentes categorías de productos por parte de clientes mayoristas.\n",
    "\n",
    "## Objetivos\n",
    "1. Cargar y explorar el conjunto de datos.\n",
    "2. Implementar el método del codo para determinar el valor óptimo de \\( k \\).\n",
    "3. Aplicar KMeans para agrupar a los clientes.\n",
    "4. Analizar los resultados y responder preguntas clave.\n",
    "\n",
    "---\n"
   ]
  },
  {
   "cell_type": "code",
   "execution_count": null,
   "id": "b23ce087",
   "metadata": {},
   "outputs": [],
   "source": [
    "\n",
    "# Instalación de bibliotecas necesarias\n",
    "!pip install pandas matplotlib scikit-learn seaborn\n"
   ]
  },
  {
   "cell_type": "code",
   "execution_count": null,
   "id": "4243aaa8",
   "metadata": {},
   "outputs": [],
   "source": [
    "\n",
    "# Importar las bibliotecas\n",
    "import pandas as pd\n",
    "import numpy as np\n",
    "import matplotlib.pyplot as plt\n",
    "from sklearn.cluster import KMeans\n",
    "import seaborn as sns\n",
    "\n",
    "# Configuración para gráficos más estéticos\n",
    "sns.set(style=\"whitegrid\")\n"
   ]
  },
  {
   "cell_type": "markdown",
   "id": "9d6ada43",
   "metadata": {},
   "source": [
    "\n",
    "## Paso 1: Cargar los datos\n",
    "\n",
    "El conjunto de datos puede descargarse directamente desde su fuente pública. Lo cargaremos en un DataFrame de pandas.\n"
   ]
  },
  {
   "cell_type": "code",
   "execution_count": null,
   "id": "ec1f965b",
   "metadata": {},
   "outputs": [],
   "source": [
    "\n",
    "# Cargar los datos desde la URL\n",
    "url = \"https://archive.ics.uci.edu/ml/machine-learning-databases/00292/Wholesale%20customers%20data.csv\"\n",
    "data = pd.read_csv(url)\n",
    "\n",
    "# Mostrar las primeras filas del conjunto de datos\n",
    "data.head()\n"
   ]
  },
  {
   "cell_type": "markdown",
   "id": "f1bf3d94",
   "metadata": {},
   "source": [
    "\n",
    "### Paso 2: Exploración inicial\n",
    "\n",
    "Analizaremos la estructura y estadísticas básicas del conjunto de datos para identificar columnas relevantes y preprocesar los datos según sea necesario.\n"
   ]
  },
  {
   "cell_type": "code",
   "execution_count": null,
   "id": "bf2574e1",
   "metadata": {},
   "outputs": [],
   "source": [
    "\n",
    "# Información general sobre los datos\n",
    "data.info()\n",
    "\n",
    "# Estadísticas descriptivas\n",
    "data.describe()\n"
   ]
  },
  {
   "cell_type": "markdown",
   "id": "fb4232e0",
   "metadata": {},
   "source": [
    "\n",
    "## Paso 3: Selección de características\n",
    "\n",
    "Para este análisis, utilizaremos las columnas relacionadas con el consumo: `Fresh`, `Milk`, `Grocery`, `Frozen`, `Detergents_Paper` y `Delicassen`.\n"
   ]
  },
  {
   "cell_type": "code",
   "execution_count": null,
   "id": "1745fe6c",
   "metadata": {},
   "outputs": [],
   "source": [
    "\n",
    "# Seleccionar las características relevantes\n",
    "X = data[['Fresh', 'Milk', 'Grocery', 'Frozen', 'Detergents_Paper', 'Delicassen']]\n",
    "\n",
    "# Normalizar los datos para KMeans\n",
    "from sklearn.preprocessing import StandardScaler\n",
    "scaler = StandardScaler()\n",
    "X_scaled = scaler.fit_transform(X)\n"
   ]
  },
  {
   "cell_type": "markdown",
   "id": "7b719abf",
   "metadata": {},
   "source": [
    "\n",
    "## Paso 4: Método del Codo\n",
    "\n",
    "Implementaremos el método del codo para determinar el valor óptimo de \\( k \\) (número de clústeres).\n"
   ]
  },
  {
   "cell_type": "code",
   "execution_count": null,
   "id": "445f468a",
   "metadata": {},
   "outputs": [],
   "source": [
    "\n",
    "# Método del codo\n",
    "inertia = []\n",
    "range_k = range(1, 11)\n",
    "\n",
    "for k in range_k:\n",
    "    kmeans = KMeans(n_clusters=k, random_state=42)\n",
    "    kmeans.fit(X_scaled)\n",
    "    inertia.append(kmeans.inertia_)\n",
    "\n",
    "# Visualizar el método del codo\n",
    "plt.figure(figsize=(8, 5))\n",
    "plt.plot(range_k, inertia, marker='o', linestyle='--')\n",
    "plt.xlabel('Número de Clústeres (k)')\n",
    "plt.ylabel('Inercia')\n",
    "plt.title('Método del Codo')\n",
    "plt.show()\n"
   ]
  },
  {
   "cell_type": "markdown",
   "id": "b7a49444",
   "metadata": {},
   "source": [
    "\n",
    "### Preguntas\n",
    "1. ¿Cuál es el valor óptimo de \\( k \\) según el método del codo? Justifique su respuesta.\n",
    "2. Explique cómo afecta el valor de \\( k \\) a la agrupación y a la inercia total.\n"
   ]
  },
  {
   "cell_type": "markdown",
   "id": "4b60e103",
   "metadata": {},
   "source": [
    "\n",
    "## Paso 5: Aplicación de KMeans\n",
    "\n",
    "Supongamos que el valor óptimo de \\( k \\) es 5. Aplicaremos KMeans con este valor y analizaremos los resultados.\n"
   ]
  },
  {
   "cell_type": "code",
   "execution_count": null,
   "id": "1af6df64",
   "metadata": {},
   "outputs": [],
   "source": [
    "\n",
    "# Aplicar KMeans con el valor óptimo de k\n",
    "k_optimo = 5  # Cambiar según la respuesta al método del codo\n",
    "kmeans = KMeans(n_clusters=k_optimo, random_state=42)\n",
    "data['Cluster'] = kmeans.fit_predict(X_scaled)\n",
    "\n",
    "# Visualizar los centroides\n",
    "centroides = pd.DataFrame(kmeans.cluster_centers_, columns=X.columns)\n",
    "centroides\n"
   ]
  },
  {
   "cell_type": "markdown",
   "id": "444a3565",
   "metadata": {},
   "source": [
    "\n",
    "## Paso 6: Análisis y visualización\n",
    "\n",
    "Visualizaremos los clústeres resultantes y responderemos preguntas sobre la agrupación.\n"
   ]
  },
  {
   "cell_type": "code",
   "execution_count": null,
   "id": "893342d8",
   "metadata": {},
   "outputs": [],
   "source": [
    "\n",
    "# Visualización de los clústeres\n",
    "plt.figure(figsize=(8, 5))\n",
    "sns.scatterplot(\n",
    "    x=X_scaled[:, 0], \n",
    "    y=X_scaled[:, 1], \n",
    "    hue=data['Cluster'], \n",
    "    palette='Set2', \n",
    "    s=100\n",
    ")\n",
    "plt.title('Agrupación de Clientes (KMeans)')\n",
    "plt.xlabel('Fresh (Normalizado)')\n",
    "plt.ylabel('Milk (Normalizado)')\n",
    "plt.legend(title='Cluster')\n",
    "plt.show()\n"
   ]
  },
  {
   "cell_type": "markdown",
   "id": "477fffcb",
   "metadata": {},
   "source": [
    "\n",
    "### Preguntas\n",
    "1. Analice las características de los centroides. ¿Qué diferencias clave observa entre los clústeres?\n",
    "2. ¿Qué tipo de clientes podrían representar los diferentes clústeres?\n",
    "3. ¿Cómo puede usarse esta agrupación en una estrategia de marketing?\n",
    "\n",
    "---\n",
    "\n",
    "## Entregables\n",
    "Suba un informe en formato PDF que incluya:\n",
    "- Las respuestas a las preguntas planteadas.\n",
    "- Gráficos y análisis obtenidos del notebook.\n",
    "- Conclusiones sobre los resultados del agrupamiento.\n",
    "\n",
    "¡Buena suerte!\n"
   ]
  }
 ],
 "metadata": {},
 "nbformat": 4,
 "nbformat_minor": 5
}
