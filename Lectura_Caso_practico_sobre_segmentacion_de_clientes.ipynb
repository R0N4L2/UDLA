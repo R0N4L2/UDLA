{
 "cells": [
  {
   "cell_type": "markdown",
   "id": "intro-markdown",
   "metadata": {},
   "source": [
    "# Caso Práctico: Segmentación de Clientes\n",
    "\n",
    "Este notebook se basa en la lectura sobre segmentación de datos y clientes. En la lectura se explican conceptos teóricos como la segmentación demográfica, psicográfica y conductual, además de presentar métodos de agrupación (clustering) y clasificación para abordar problemas reales en marketing.\n",
    "\n",
    "En este ejemplo, se utilizará el algoritmo **K-Means** para segmentar clientes simulados en tres grupos diferenciados. Cada grupo se ha definido en función de variables como la **edad**, los **ingresos** y la **frecuencia de compra**, lo que permite relacionar la teoría con un caso práctico de aplicación."
   ]
  },
  {
   "cell_type": "markdown",
   "id": "intro-explicacion",
   "metadata": {},
   "source": [
    "## Desarrollo de la Lectura y Formulaciones Teóricas\n",
    "\n",
    "La lectura aborda diferentes métodos de segmentación, destacando dos enfoques principales:\n",
    "\n",
    "- **Métodos de Agrupación (Clustering):** Se utilizan cuando no se tienen etiquetas predefinidas. Por ejemplo, el **K-Means** agrupa datos en función de la proximidad a centroides.\n",
    "- **Métodos de Clasificación:** Se usan cuando se cuenta con datos etiquetados y se desea predecir la clase o grupo al que pertenece un nuevo dato.\n",
    "\n",
    "En este notebook se desarrollará la parte de clustering, simulando datos representativos de tres segmentos de clientes:\n",
    "\n",
    "1. **Cluster 1:** Jóvenes con ingresos bajos y alta frecuencia de compra.\n",
    "2. **Cluster 2:** Adultos con ingresos medios y frecuencia de compra moderada.\n",
    "3. **Cluster 3:** Personas mayores con ingresos altos y baja frecuencia de compra.\n",
    "\n",
    "A continuación se muestran las formulaciones y el desarrollo práctico de cada etapa."
   ]
  },
  {
   "cell_type": "code",
   "execution_count": null,
   "id": "importacion-librerias",
   "metadata": {},
   "outputs": [],
   "source": [
    "# Importación de librerías necesarias\n",
    "import numpy as np\n",
    "import pandas as pd\n",
    "import matplotlib.pyplot as plt\n",
    "from sklearn.cluster import KMeans\n",
    "import seaborn as sns\n",
    "\n",
    "# Configuración de estilo para gráficos\n",
    "sns.set(style=\"whitegrid\")\n",
    "\n",
    "# Fijar semilla para reproducibilidad\n",
    "np.random.seed(42)"
   ]
  },
  {
   "cell_type": "markdown",
   "id": "explicacion-importacion",
   "metadata": {},
   "source": [
    "### Explicación de la Importación y Configuración\n",
    "\n",
    "En esta sección se importan las librerías fundamentales para el análisis:\n",
    "\n",
    "- **NumPy y Pandas:** Para la manipulación de datos y generación de arrays y DataFrames.\n",
    "- **Matplotlib y Seaborn:** Para la visualización gráfica de los resultados.\n",
    "- **KMeans de Scikit-Learn:** Para aplicar el algoritmo de clustering.\n",
    "\n",
    "Además, se configura el estilo de los gráficos y se fija una semilla aleatoria para asegurar que los resultados sean reproducibles."
   ]
  },
  {
   "cell_type": "code",
   "execution_count": null,
   "id": "generacion-datos",
   "metadata": {},
   "outputs": [],
   "source": [
    "# Definir el número de muestras para cada grupo\n",
    "n_samples = 150\n",
    "\n",
    "# Simulación de datos para tres segmentos de clientes\n",
    "\n",
    "# Cluster 1: Jóvenes con ingresos bajos y alta frecuencia de compra\n",
    "edad1 = np.random.normal(loc=25, scale=3, size=n_samples)         # Edad alrededor de 25 años\n",
    "ingresos1 = np.random.normal(loc=30000, scale=5000, size=n_samples) # Ingresos promedio de 30,000\n",
    "frecuencia1 = np.random.normal(loc=15, scale=3, size=n_samples)     # Alta frecuencia de compra\n",
    "\n",
    "# Cluster 2: Adultos con ingresos medios y frecuencia moderada\n",
    "edad2 = np.random.normal(loc=40, scale=4, size=n_samples)         # Edad alrededor de 40 años\n",
    "ingresos2 = np.random.normal(loc=60000, scale=8000, size=n_samples) # Ingresos promedio de 60,000\n",
    "frecuencia2 = np.random.normal(loc=10, scale=2, size=n_samples)     # Frecuencia moderada de compra\n",
    "\n",
    "# Cluster 3: Personas mayores con ingresos altos y baja frecuencia de compra\n",
    "edad3 = np.random.normal(loc=55, scale=5, size=n_samples)         # Edad alrededor de 55 años\n",
    "ingresos3 = np.random.normal(loc=90000, scale=10000, size=n_samples) # Ingresos promedio de 90,000\n",
    "frecuencia3 = np.random.normal(loc=5, scale=1, size=n_samples)      # Baja frecuencia de compra\n",
    "\n",
    "# Concatenar los datos de cada cluster en vectores únicos\n",
    "edad = np.concatenate([edad1, edad2, edad3])\n",
    "ingresos = np.concatenate([ingresos1, ingresos2, ingresos3])\n",
    "frecuencia = np.concatenate([frecuencia1, frecuencia2, frecuencia3])\n",
    "\n",
    "# Crear un DataFrame para organizar los datos\n",
    "df = pd.DataFrame({\n",
    "    'Edad': edad,\n",
    "    'Ingresos': ingresos,\n",
    "    'FrecuenciaCompra': frecuencia\n",
    "})\n",
    "\n",
    "df.head()"
   ]
  },
  {
   "cell_type": "markdown",
   "id": "explicacion-datos",
   "metadata": {},
   "source": [
    "### Explicación de la Generación de Datos Sintéticos\n",
    "\n",
    "Se crean tres grupos de datos utilizando la distribución normal (gaussiana) para simular:\n",
    "\n",
    "- **Edad:** Promedio y dispersión (desviación estándar) diferentes para cada grupo.\n",
    "- **Ingresos:** Variables numéricas que representan diferentes niveles de ingresos.\n",
    "- **Frecuencia de Compra:** Número que simula cuántas veces un cliente compra en un período dado.\n",
    "\n",
    "Cada conjunto de datos se genera con parámetros distintos (loc y scale) para reflejar las características específicas de cada segmento (jóvenes, adultos y personas mayores). Luego se concatenan los vectores para formar un único DataFrame que contendrá todos los datos."
   ]
  },
  {
   "cell_type": "code",
   "execution_count": null,
   "id": "aplicacion-kmeans",
   "metadata": {},
   "outputs": [],
   "source": [
    "# Aplicar el algoritmo K-Means para segmentar los clientes\n",
    "kmeans = KMeans(n_clusters=3, random_state=42)\n",
    "df['Cluster'] = kmeans.fit_predict(df[['Edad', 'Ingresos', 'FrecuenciaCompra']])\n",
    "\n",
    "df.head()"
   ]
  },
  {
   "cell_type": "markdown",
   "id": "explicacion-kmeans",
   "metadata": {},
   "source": [
    "### Explicación del Algoritmo K-Means\n",
    "\n",
    "El algoritmo **K-Means** es uno de los métodos de agrupación más utilizados. Su funcionamiento se puede resumir en los siguientes pasos:\n",
    "\n",
    "1. **Inicialización:** Se eligen aleatoriamente tres centroides (uno para cada cluster).\n",
    "2. **Asignación:** Cada punto del DataFrame se asigna al cluster cuyo centroide esté más cercano (medido por la distancia euclidiana).\n",
    "3. **Actualización:** Se recalculan los centroides de cada cluster como el promedio de los puntos asignados.\n",
    "4. **Iteración:** Se repiten los pasos de asignación y actualización hasta que los centroides se estabilizan o se alcanza un número máximo de iteraciones.\n",
    "\n",
    "El resultado es una nueva columna en el DataFrame que indica a qué cluster pertenece cada registro, permitiendo posteriormente diseñar estrategias específicas para cada grupo."
   ]
  },
  {
   "cell_type": "code",
   "execution_count": null,
   "id": "visualizacion",
   "metadata": {},
   "outputs": [],
   "source": [
    "# Visualización de la segmentación utilizando un pairplot de Seaborn\n",
    "sns.pairplot(df, hue='Cluster', vars=['Edad', 'Ingresos', 'FrecuenciaCompra'], palette='viridis')\n",
    "plt.suptitle(\"Segmentación de Clientes utilizando K-Means\", y=1.02)\n",
    "plt.show()"
   ]
  },
  {
   "cell_type": "markdown",
   "id": "explicacion-visualizacion",
   "metadata": {},
   "source": [
    "### Explicación de la Visualización\n",
    "\n",
    "La visualización se realiza mediante un **pairplot** de Seaborn, que muestra gráficos de dispersión entre cada par de variables (Edad, Ingresos y Frecuencia de Compra) y la distribución de cada variable. La opción `hue='Cluster'` colorea los datos según el grupo asignado por el algoritmo K-Means, lo que facilita la interpretación visual de los segmentos formados.\n",
    "\n",
    "Este gráfico permite identificar de manera intuitiva las diferencias entre los grupos y verificar la efectividad de la segmentación."
   ]
  },
  {
   "cell_type": "markdown",
   "id": "conclusiones",
   "metadata": {},
   "source": [
    "## Conclusiones\n",
    "\n",
    "En este caso práctico se ha demostrado cómo aplicar técnicas de segmentación de clientes basadas en conceptos teóricos abordados en la lectura. A continuación se resumen los puntos clave:\n",
    "\n",
    "- **Generación de Datos Sintéticos:** Se simularon tres segmentos de clientes utilizando distribuciones normales para variables relevantes (edad, ingresos y frecuencia de compra).\n",
    "- **Aplicación de K-Means:** Se empleó el algoritmo K-Means para agrupar los datos sin etiquetas predefinidas, asignando cada cliente a un cluster basado en sus características.\n",
    "- **Visualización e Interpretación:** El uso de gráficos permite observar la separación entre los grupos y evaluar la pertinencia de la segmentación para diseñar estrategias de marketing personalizadas.\n",
    "\n",
    "La segmentación de clientes es una herramienta esencial para optimizar recursos y adaptar campañas, facilitando la toma de decisiones en función de las características y comportamientos de cada grupo."
   ]
  }
 ],
 "metadata": {
  "kernelspec": {
   "display_name": "Python 3",
   "language": "python",
   "name": "python3"
  },
  "language_info": {
   "name": "python",
   "version": "3.x"
  }
 },
 "nbformat": 4,
 "nbformat_minor": 5
}
